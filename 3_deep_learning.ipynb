{
  "cells": [
    {
      "cell_type": "markdown",
      "metadata": {
        "id": "view-in-github",
        "colab_type": "text"
      },
      "source": [
        "<a href=\"https://colab.research.google.com/github/mateusdevmelo/ML_Deep_Learning/blob/main/3_deep_learning.ipynb\" target=\"_parent\"><img src=\"https://colab.research.google.com/assets/colab-badge.svg\" alt=\"Open In Colab\"/></a>"
      ]
    },
    {
      "cell_type": "code",
      "execution_count": 4,
      "metadata": {
        "id": "BivYlMSiPOh6"
      },
      "outputs": [],
      "source": [
        "# Deep Learning"
      ]
    },
    {
      "cell_type": "code",
      "execution_count": 3,
      "metadata": {
        "id": "op5FmobIPOh8"
      },
      "outputs": [],
      "source": [
        "# Importação das bibliotecas\n",
        "import matplotlib.pyplot as plt\n",
        "from keras.models import Sequential\n",
        "from keras.layers import Dense, Dropout\n",
        "from keras.utils import np_utils\n",
        "import numpy as np\n",
        "from sklearn.metrics import confusion_matrix\n",
        "from keras.datasets import mnist\n",
        "#pip install tensorflow (executar no Anaconda Prompt)"
      ]
    },
    {
      "cell_type": "code",
      "execution_count": 5,
      "metadata": {
        "colab": {
          "base_uri": "https://localhost:8080/",
          "height": 504
        },
        "id": "mGziK0lCPOh8",
        "outputId": "c9bb9881-008b-41a3-d78e-491e76a1f2e2"
      },
      "outputs": [
        {
          "output_type": "stream",
          "name": "stdout",
          "text": [
            "Downloading data from https://storage.googleapis.com/tensorflow/tf-keras-datasets/mnist.npz\n",
            "11490434/11490434 [==============================] - 0s 0us/step\n"
          ]
        },
        {
          "output_type": "execute_result",
          "data": {
            "text/plain": [
              "Text(0.5, 1.0, '0')"
            ]
          },
          "metadata": {},
          "execution_count": 5
        },
        {
          "output_type": "display_data",
          "data": {
            "text/plain": [
              "<Figure size 640x480 with 1 Axes>"
            ],
            "image/png": "[encoded data removed]"
          },
          "metadata": {}
        }
      ],
      "source": [
        "# Obtenção dos dados e divisão automática entre treinamento e teste\n",
        "(X_treinamento, y_treinamento), (X_teste, y_teste) = mnist.load_data()\n",
        "# Visualização de imagens específicas\n",
        "plt.imshow(X_treinamento[21], cmap = 'gray')\n",
        "plt.title(y_treinamento[21])"
      ]
    },
    {
      "cell_type": "code",
      "execution_count": 6,
      "metadata": {
        "colab": {
          "base_uri": "https://localhost:8080/"
        },
        "id": "V6PJ-Iq3POh9",
        "outputId": "372254d8-ee0c-4b66-fc5a-fb92d0643cd6"
      },
      "outputs": [
        {
          "output_type": "execute_result",
          "data": {
            "text/plain": [
              "array([  0,   0,   0,   0,   0,   0,   0,   0,   0,   0,   0,   0,   0,\n",
              "         0,   0,   0,   0,   0,   0,   0,   0,   0,   0,   0,   0,   0,\n",
              "         0,   0,   0,   0,   0,   0,   0,   0,   0,   0,   0,   0,   0,\n",
              "         0,   0,   0,   0,   0,   0,   0,   0,   0,   0,   0,   0,   0,\n",
              "         0,   0,   0,   0,   0,   0,   0,   0,   0,   0,   0,   0,   0,\n",
              "         0,   0,   0,   0,   0,   0,   0,   0,   0,   0,   0,   0,   0,\n",
              "         0,   0,   0,   0,   0,   0,   0,   0,   0,   0,   0,   0,   0,\n",
              "         0,   0,   0,   0,   0,   0,   0,   0,   0,   0,   0,   0,   0,\n",
              "         0,   0,   0,   0,   0,   0,   0,   0,   0,   0,   0,   0,   0,\n",
              "         0,   0,   0,   0,   0,   0,   0,   0,   0,   0,   0,   0,   0,\n",
              "         0,   0,   0,   0,   0,   0,   0,   0,   0,   0,   0,   0,   0,\n",
              "         0,   0,   0,   0,   0,   0,   0,   0,   0,   0,   0,   0,   0,\n",
              "         0,   0,   0,   0,   0,   0,   0,   0,   0,   0,   0,   0,   0,\n",
              "         0,   0,   0,   0,   0,   0,   0,   0,   0,   0,   0,   0,   0,\n",
              "         0,   0,   0,   0,   0,   0,   0,   0,   0,   0,   0,   0,   0,\n",
              "         0,   0,   0,   0,   0,   0,   0,  84, 185, 159, 151,  60,  36,\n",
              "         0,   0,   0,   0,   0,   0,   0,   0,   0,   0,   0,   0,   0,\n",
              "         0,   0,   0,   0,   0,   0,   0,   0,   0, 222, 254, 254, 254,\n",
              "       254, 241, 198, 198, 198, 198, 198, 198, 198, 198, 170,  52,   0,\n",
              "         0,   0,   0,   0,   0,   0,   0,   0,   0,   0,   0,  67, 114,\n",
              "        72, 114, 163, 227, 254, 225, 254, 254, 254, 250, 229, 254, 254,\n",
              "       140,   0,   0,   0,   0,   0,   0,   0,   0,   0,   0,   0,   0,\n",
              "         0,   0,   0,   0,   0,  17,  66,  14,  67,  67,  67,  59,  21,\n",
              "       236, 254, 106,   0,   0,   0,   0,   0,   0,   0,   0,   0,   0,\n",
              "         0,   0,   0,   0,   0,   0,   0,   0,   0,   0,   0,   0,   0,\n",
              "         0,  83, 253, 209,  18,   0,   0,   0,   0,   0,   0,   0,   0,\n",
              "         0,   0,   0,   0,   0,   0,   0,   0,   0,   0,   0,   0,   0,\n",
              "         0,   0,  22, 233, 255,  83,   0,   0,   0,   0,   0,   0,   0,\n",
              "         0,   0,   0,   0,   0,   0,   0,   0,   0,   0,   0,   0,   0,\n",
              "         0,   0,   0,   0, 129, 254, 238,  44,   0,   0,   0,   0,   0,\n",
              "         0,   0,   0,   0,   0,   0,   0,   0,   0,   0,   0,   0,   0,\n",
              "         0,   0,   0,   0,   0,  59, 249, 254,  62,   0,   0,   0,   0,\n",
              "         0,   0,   0,   0,   0,   0,   0,   0,   0,   0,   0,   0,   0,\n",
              "         0,   0,   0,   0,   0,   0,   0, 133, 254, 187,   5,   0,   0,\n",
              "         0,   0,   0,   0,   0,   0,   0,   0,   0,   0,   0,   0,   0,\n",
              "         0,   0,   0,   0,   0,   0,   0,   0,   9, 205, 248,  58,   0,\n",
              "         0,   0,   0,   0,   0,   0,   0,   0,   0,   0,   0,   0,   0,\n",
              "         0,   0,   0,   0,   0,   0,   0,   0,   0,   0, 126, 254, 182,\n",
              "         0,   0,   0,   0,   0,   0,   0,   0,   0,   0,   0,   0,   0,\n",
              "         0,   0,   0,   0,   0,   0,   0,   0,   0,   0,   0,  75, 251,\n",
              "       240,  57,   0,   0,   0,   0,   0,   0,   0,   0,   0,   0,   0,\n",
              "         0,   0,   0,   0,   0,   0,   0,   0,   0,   0,   0,   0,  19,\n",
              "       221, 254, 166,   0,   0,   0,   0,   0,   0,   0,   0,   0,   0,\n",
              "         0,   0,   0,   0,   0,   0,   0,   0,   0,   0,   0,   0,   0,\n",
              "         3, 203, 254, 219,  35,   0,   0,   0,   0,   0,   0,   0,   0,\n",
              "         0,   0,   0,   0,   0,   0,   0,   0,   0,   0,   0,   0,   0,\n",
              "         0,   0,  38, 254, 254,  77,   0,   0,   0,   0,   0,   0,   0,\n",
              "         0,   0,   0,   0,   0,   0,   0,   0,   0,   0,   0,   0,   0,\n",
              "         0,   0,   0,  31, 224, 254, 115,   1,   0,   0,   0,   0,   0,\n",
              "         0,   0,   0,   0,   0,   0,   0,   0,   0,   0,   0,   0,   0,\n",
              "         0,   0,   0,   0,   0, 133, 254, 254,  52,   0,   0,   0,   0,\n",
              "         0,   0,   0,   0,   0,   0,   0,   0,   0,   0,   0,   0,   0,\n",
              "         0,   0,   0,   0,   0,   0,  61, 242, 254, 254,  52,   0,   0,\n",
              "         0,   0,   0,   0,   0,   0,   0,   0,   0,   0,   0,   0,   0,\n",
              "         0,   0,   0,   0,   0,   0,   0,   0, 121, 254, 254, 219,  40,\n",
              "         0,   0,   0,   0,   0,   0,   0,   0,   0,   0,   0,   0,   0,\n",
              "         0,   0,   0,   0,   0,   0,   0,   0,   0,   0, 121, 254, 207,\n",
              "        18,   0,   0,   0,   0,   0,   0,   0,   0,   0,   0,   0,   0,\n",
              "         0,   0,   0,   0,   0,   0,   0,   0,   0,   0,   0,   0,   0,\n",
              "         0,   0,   0,   0,   0,   0,   0,   0,   0,   0,   0,   0,   0,\n",
              "         0,   0,   0,   0], dtype=uint8)"
            ]
          },
          "metadata": {},
          "execution_count": 6
        }
      ],
      "source": [
        "# Mudança de dimensão, originalmente está em 28x28 e precisamos 784\n",
        "X_treinamento = X_treinamento.reshape((len(X_treinamento), np.prod(X_treinamento.shape[1:])))\n",
        "X_teste = X_teste.reshape((len(X_teste), np.prod(X_teste.shape[1:])))\n",
        "X_teste[0]"
      ]
    },
    {
      "cell_type": "code",
      "execution_count": 7,
      "metadata": {
        "id": "3DWbH7KtPOh9"
      },
      "outputs": [],
      "source": [
        "# Transformação dos dados para float para podermos normalizar os dados\n",
        "X_treinamento = X_treinamento.astype('float32')\n",
        "X_teste = X_teste.astype('float32')"
      ]
    },
    {
      "cell_type": "code",
      "execution_count": 8,
      "metadata": {
        "id": "N2uKICuUPOh9"
      },
      "outputs": [],
      "source": [
        "# Normalização (255 é o valor máximo de um pixel)\n",
        "X_treinamento /= 255\n",
        "X_teste /= 255"
      ]
    },
    {
      "cell_type": "code",
      "execution_count": 9,
      "metadata": {
        "colab": {
          "base_uri": "https://localhost:8080/"
        },
        "id": "ox_CdcL6POh-",
        "outputId": "1357dab3-d074-4341-8ee7-0e532ef89590"
      },
      "outputs": [
        {
          "output_type": "execute_result",
          "data": {
            "text/plain": [
              "array([0., 0., 0., 0., 0., 0., 0., 1., 0., 0.], dtype=float32)"
            ]
          },
          "metadata": {},
          "execution_count": 9
        }
      ],
      "source": [
        "# Transformação para o formato dummy (temos 10 classes)\n",
        "y_treinamento = np_utils.to_categorical(y_treinamento, 10)\n",
        "y_teste = np_utils.to_categorical(y_teste, 10)\n",
        "y_teste[0]"
      ]
    },
    {
      "cell_type": "code",
      "execution_count": 10,
      "metadata": {
        "id": "nRKoeXiTPOh-"
      },
      "outputs": [],
      "source": [
        "# Estrutura da rede neural: 784 - 64 - 64 - 64 - 10\n",
        "# Dropout é utilizado para zerar uma porcentagem dos neurônios, para evitar o overfitting\n",
        "modelo = Sequential()\n",
        "modelo.add(Dense(units = 64, activation = 'relu', input_dim = 784))\n",
        "modelo.add(Dropout(0.2))\n",
        "modelo.add(Dense(units = 64, activation = 'relu'))\n",
        "modelo.add(Dropout(0.2))\n",
        "modelo.add(Dense(units = 64, activation = 'relu'))\n",
        "modelo.add(Dropout(0.2))\n",
        "#camada de saida, softmax probabilidade\n",
        "modelo.add(Dense(units = 10, activation = 'softmax'))"
      ]
    },
    {
      "cell_type": "code",
      "execution_count": 11,
      "metadata": {
        "colab": {
          "base_uri": "https://localhost:8080/"
        },
        "id": "r_NoPTMTPOh-",
        "outputId": "3782d639-9e6b-4c5d-d603-a3e8eb64b6e9"
      },
      "outputs": [
        {
          "output_type": "stream",
          "name": "stdout",
          "text": [
            "Model: \"sequential\"\n",
            "_________________________________________________________________\n",
            " Layer (type)                Output Shape              Param #   \n",
            "=================================================================\n",
            " dense (Dense)               (None, 64)                50240     \n",
            "                                                                 \n",
            " dropout (Dropout)           (None, 64)                0         \n",
            "                                                                 \n",
            " dense_1 (Dense)             (None, 64)                4160      \n",
            "                                                                 \n",
            " dropout_1 (Dropout)         (None, 64)                0         \n",
            "                                                                 \n",
            " dense_2 (Dense)             (None, 64)                4160      \n",
            "                                                                 \n",
            " dropout_2 (Dropout)         (None, 64)                0         \n",
            "                                                                 \n",
            " dense_3 (Dense)             (None, 10)                650       \n",
            "                                                                 \n",
            "=================================================================\n",
            "Total params: 59,210\n",
            "Trainable params: 59,210\n",
            "Non-trainable params: 0\n",
            "_________________________________________________________________\n"
          ]
        }
      ],
      "source": [
        "# Visualização da estrutura da rede neural\n",
        "modelo.summary()"
      ]
    },
    {
      "cell_type": "code",
      "execution_count": 16,
      "metadata": {
        "colab": {
          "base_uri": "https://localhost:8080/"
        },
        "id": "wxU4mcT5POh_",
        "outputId": "ad8aef21-c920-4e6b-c886-fc4f0a08779b"
      },
      "outputs": [
        {
          "output_type": "stream",
          "name": "stdout",
          "text": [
            "Epoch 1/200\n",
            "1875/1875 [==============================] - 29s 15ms/step - loss: 0.0925 - accuracy: 0.9725 - val_loss: 0.0887 - val_accuracy: 0.9770\n",
            "Epoch 2/200\n",
            "1875/1875 [==============================] - 4s 2ms/step - loss: 0.0897 - accuracy: 0.9730 - val_loss: 0.0848 - val_accuracy: 0.9762\n",
            "Epoch 3/200\n",
            "1875/1875 [==============================] - 4s 2ms/step - loss: 0.0882 - accuracy: 0.9734 - val_loss: 0.0958 - val_accuracy: 0.9741\n",
            "Epoch 4/200\n",
            "1875/1875 [==============================] - 4s 2ms/step - loss: 0.0864 - accuracy: 0.9740 - val_loss: 0.0889 - val_accuracy: 0.9756\n",
            "Epoch 5/200\n",
            "1875/1875 [==============================] - 4s 2ms/step - loss: 0.0822 - accuracy: 0.9753 - val_loss: 0.0923 - val_accuracy: 0.9756\n",
            "Epoch 6/200\n",
            "1875/1875 [==============================] - 4s 2ms/step - loss: 0.0828 - accuracy: 0.9747 - val_loss: 0.0962 - val_accuracy: 0.9753\n",
            "Epoch 7/200\n",
            "1875/1875 [==============================] - 4s 2ms/step - loss: 0.0838 - accuracy: 0.9744 - val_loss: 0.0878 - val_accuracy: 0.9769\n",
            "Epoch 8/200\n",
            "1875/1875 [==============================] - 4s 2ms/step - loss: 0.0809 - accuracy: 0.9757 - val_loss: 0.0895 - val_accuracy: 0.9747\n",
            "Epoch 9/200\n",
            "1875/1875 [==============================] - 4s 2ms/step - loss: 0.0761 - accuracy: 0.9766 - val_loss: 0.0923 - val_accuracy: 0.9756\n",
            "Epoch 10/200\n",
            "1875/1875 [==============================] - 4s 2ms/step - loss: 0.0788 - accuracy: 0.9761 - val_loss: 0.0837 - val_accuracy: 0.9774\n",
            "Epoch 11/200\n",
            "1875/1875 [==============================] - 4s 2ms/step - loss: 0.0763 - accuracy: 0.9765 - val_loss: 0.0868 - val_accuracy: 0.9769\n",
            "Epoch 12/200\n",
            "1875/1875 [==============================] - 4s 2ms/step - loss: 0.0796 - accuracy: 0.9755 - val_loss: 0.0812 - val_accuracy: 0.9781\n",
            "Epoch 13/200\n",
            "1875/1875 [==============================] - 4s 2ms/step - loss: 0.0753 - accuracy: 0.9772 - val_loss: 0.0860 - val_accuracy: 0.9773\n",
            "Epoch 14/200\n",
            "1875/1875 [==============================] - 4s 2ms/step - loss: 0.0734 - accuracy: 0.9776 - val_loss: 0.0900 - val_accuracy: 0.9772\n",
            "Epoch 15/200\n",
            "1875/1875 [==============================] - 4s 2ms/step - loss: 0.0763 - accuracy: 0.9768 - val_loss: 0.0918 - val_accuracy: 0.9769\n",
            "Epoch 16/200\n",
            "1875/1875 [==============================] - 4s 2ms/step - loss: 0.0765 - accuracy: 0.9768 - val_loss: 0.0906 - val_accuracy: 0.9765\n",
            "Epoch 17/200\n",
            "1875/1875 [==============================] - 4s 2ms/step - loss: 0.0749 - accuracy: 0.9765 - val_loss: 0.0892 - val_accuracy: 0.9764\n",
            "Epoch 18/200\n",
            "1875/1875 [==============================] - 4s 2ms/step - loss: 0.0739 - accuracy: 0.9777 - val_loss: 0.0888 - val_accuracy: 0.9758\n",
            "Epoch 19/200\n",
            "1875/1875 [==============================] - 4s 2ms/step - loss: 0.0676 - accuracy: 0.9792 - val_loss: 0.0892 - val_accuracy: 0.9758\n",
            "Epoch 20/200\n",
            "1875/1875 [==============================] - 4s 2ms/step - loss: 0.0708 - accuracy: 0.9788 - val_loss: 0.0934 - val_accuracy: 0.9764\n",
            "Epoch 21/200\n",
            "1875/1875 [==============================] - 4s 2ms/step - loss: 0.0733 - accuracy: 0.9778 - val_loss: 0.0910 - val_accuracy: 0.9773\n",
            "Epoch 22/200\n",
            "1875/1875 [==============================] - 4s 2ms/step - loss: 0.0716 - accuracy: 0.9776 - val_loss: 0.0934 - val_accuracy: 0.9773\n",
            "Epoch 23/200\n",
            "1875/1875 [==============================] - 4s 2ms/step - loss: 0.0671 - accuracy: 0.9791 - val_loss: 0.0952 - val_accuracy: 0.9754\n",
            "Epoch 24/200\n",
            "1875/1875 [==============================] - 4s 2ms/step - loss: 0.0673 - accuracy: 0.9796 - val_loss: 0.0948 - val_accuracy: 0.9763\n",
            "Epoch 25/200\n",
            "1875/1875 [==============================] - 4s 2ms/step - loss: 0.0697 - accuracy: 0.9788 - val_loss: 0.0935 - val_accuracy: 0.9764\n",
            "Epoch 26/200\n",
            "1875/1875 [==============================] - 4s 2ms/step - loss: 0.0680 - accuracy: 0.9792 - val_loss: 0.1019 - val_accuracy: 0.9756\n",
            "Epoch 27/200\n",
            "1875/1875 [==============================] - 4s 2ms/step - loss: 0.0667 - accuracy: 0.9797 - val_loss: 0.0940 - val_accuracy: 0.9775\n",
            "Epoch 28/200\n",
            "1875/1875 [==============================] - 4s 2ms/step - loss: 0.0674 - accuracy: 0.9797 - val_loss: 0.0972 - val_accuracy: 0.9771\n",
            "Epoch 29/200\n",
            "1875/1875 [==============================] - 4s 2ms/step - loss: 0.0675 - accuracy: 0.9798 - val_loss: 0.0963 - val_accuracy: 0.9778\n",
            "Epoch 30/200\n",
            "1875/1875 [==============================] - 4s 2ms/step - loss: 0.0659 - accuracy: 0.9796 - val_loss: 0.0978 - val_accuracy: 0.9766\n",
            "Epoch 31/200\n",
            "1875/1875 [==============================] - 4s 2ms/step - loss: 0.0646 - accuracy: 0.9800 - val_loss: 0.1050 - val_accuracy: 0.9762\n",
            "Epoch 32/200\n",
            "1875/1875 [==============================] - 4s 2ms/step - loss: 0.0676 - accuracy: 0.9796 - val_loss: 0.1015 - val_accuracy: 0.9757\n",
            "Epoch 33/200\n",
            "1875/1875 [==============================] - 4s 2ms/step - loss: 0.0650 - accuracy: 0.9798 - val_loss: 0.0983 - val_accuracy: 0.9758\n",
            "Epoch 34/200\n",
            "1875/1875 [==============================] - 4s 2ms/step - loss: 0.0629 - accuracy: 0.9811 - val_loss: 0.1038 - val_accuracy: 0.9758\n",
            "Epoch 35/200\n",
            "1875/1875 [==============================] - 4s 2ms/step - loss: 0.0636 - accuracy: 0.9809 - val_loss: 0.1061 - val_accuracy: 0.9760\n",
            "Epoch 36/200\n",
            "1875/1875 [==============================] - 4s 2ms/step - loss: 0.0648 - accuracy: 0.9804 - val_loss: 0.1028 - val_accuracy: 0.9758\n",
            "Epoch 37/200\n",
            "1875/1875 [==============================] - 4s 2ms/step - loss: 0.0657 - accuracy: 0.9808 - val_loss: 0.0997 - val_accuracy: 0.9766\n",
            "Epoch 38/200\n",
            "1875/1875 [==============================] - 4s 2ms/step - loss: 0.0636 - accuracy: 0.9808 - val_loss: 0.1011 - val_accuracy: 0.9757\n",
            "Epoch 39/200\n",
            "1875/1875 [==============================] - 4s 2ms/step - loss: 0.0628 - accuracy: 0.9805 - val_loss: 0.0955 - val_accuracy: 0.9743\n",
            "Epoch 40/200\n",
            "1875/1875 [==============================] - 4s 2ms/step - loss: 0.0618 - accuracy: 0.9801 - val_loss: 0.1016 - val_accuracy: 0.9761\n",
            "Epoch 41/200\n",
            "1875/1875 [==============================] - 4s 2ms/step - loss: 0.0619 - accuracy: 0.9810 - val_loss: 0.1001 - val_accuracy: 0.9770\n",
            "Epoch 42/200\n",
            "1875/1875 [==============================] - 4s 2ms/step - loss: 0.0600 - accuracy: 0.9818 - val_loss: 0.1105 - val_accuracy: 0.9757\n",
            "Epoch 43/200\n",
            "1875/1875 [==============================] - 4s 2ms/step - loss: 0.0601 - accuracy: 0.9820 - val_loss: 0.1081 - val_accuracy: 0.9758\n",
            "Epoch 44/200\n",
            "1875/1875 [==============================] - 4s 2ms/step - loss: 0.0609 - accuracy: 0.9821 - val_loss: 0.1075 - val_accuracy: 0.9766\n",
            "Epoch 45/200\n",
            "1875/1875 [==============================] - 4s 2ms/step - loss: 0.0581 - accuracy: 0.9825 - val_loss: 0.1107 - val_accuracy: 0.9770\n",
            "Epoch 46/200\n",
            "1875/1875 [==============================] - 4s 2ms/step - loss: 0.0610 - accuracy: 0.9810 - val_loss: 0.1070 - val_accuracy: 0.9760\n",
            "Epoch 47/200\n",
            "1875/1875 [==============================] - 4s 2ms/step - loss: 0.0637 - accuracy: 0.9804 - val_loss: 0.1076 - val_accuracy: 0.9757\n",
            "Epoch 48/200\n",
            "1875/1875 [==============================] - 4s 2ms/step - loss: 0.0595 - accuracy: 0.9812 - val_loss: 0.1068 - val_accuracy: 0.9752\n",
            "Epoch 49/200\n",
            "1875/1875 [==============================] - 4s 2ms/step - loss: 0.0594 - accuracy: 0.9827 - val_loss: 0.1060 - val_accuracy: 0.9759\n",
            "Epoch 50/200\n",
            "1875/1875 [==============================] - 4s 2ms/step - loss: 0.0579 - accuracy: 0.9829 - val_loss: 0.0995 - val_accuracy: 0.9762\n",
            "Epoch 51/200\n",
            "1875/1875 [==============================] - 4s 2ms/step - loss: 0.0562 - accuracy: 0.9826 - val_loss: 0.1072 - val_accuracy: 0.9741\n",
            "Epoch 52/200\n",
            "1875/1875 [==============================] - 4s 2ms/step - loss: 0.0570 - accuracy: 0.9825 - val_loss: 0.1138 - val_accuracy: 0.9752\n",
            "Epoch 53/200\n",
            "1875/1875 [==============================] - 4s 2ms/step - loss: 0.0580 - accuracy: 0.9823 - val_loss: 0.1066 - val_accuracy: 0.9756\n",
            "Epoch 54/200\n",
            "1875/1875 [==============================] - 4s 2ms/step - loss: 0.0590 - accuracy: 0.9822 - val_loss: 0.1123 - val_accuracy: 0.9752\n",
            "Epoch 55/200\n",
            "1875/1875 [==============================] - 4s 2ms/step - loss: 0.0574 - accuracy: 0.9823 - val_loss: 0.1034 - val_accuracy: 0.9760\n",
            "Epoch 56/200\n",
            "1875/1875 [==============================] - 4s 2ms/step - loss: 0.0555 - accuracy: 0.9828 - val_loss: 0.1163 - val_accuracy: 0.9760\n",
            "Epoch 57/200\n",
            "1875/1875 [==============================] - 4s 2ms/step - loss: 0.0592 - accuracy: 0.9825 - val_loss: 0.1049 - val_accuracy: 0.9764\n",
            "Epoch 58/200\n",
            "1875/1875 [==============================] - 4s 2ms/step - loss: 0.0560 - accuracy: 0.9828 - val_loss: 0.1055 - val_accuracy: 0.9754\n",
            "Epoch 59/200\n",
            "1875/1875 [==============================] - 4s 2ms/step - loss: 0.0569 - accuracy: 0.9827 - val_loss: 0.1118 - val_accuracy: 0.9757\n",
            "Epoch 60/200\n",
            "1875/1875 [==============================] - 4s 2ms/step - loss: 0.0550 - accuracy: 0.9831 - val_loss: 0.1065 - val_accuracy: 0.9756\n",
            "Epoch 61/200\n",
            "1875/1875 [==============================] - 4s 2ms/step - loss: 0.0545 - accuracy: 0.9837 - val_loss: 0.1199 - val_accuracy: 0.9766\n",
            "Epoch 62/200\n",
            "1875/1875 [==============================] - 4s 2ms/step - loss: 0.0589 - accuracy: 0.9825 - val_loss: 0.1091 - val_accuracy: 0.9763\n",
            "Epoch 63/200\n",
            "1875/1875 [==============================] - 4s 2ms/step - loss: 0.0581 - accuracy: 0.9824 - val_loss: 0.1106 - val_accuracy: 0.9771\n",
            "Epoch 64/200\n",
            "1875/1875 [==============================] - 4s 2ms/step - loss: 0.0546 - accuracy: 0.9833 - val_loss: 0.1109 - val_accuracy: 0.9764\n",
            "Epoch 65/200\n",
            "1875/1875 [==============================] - 4s 2ms/step - loss: 0.0513 - accuracy: 0.9840 - val_loss: 0.1166 - val_accuracy: 0.9760\n",
            "Epoch 66/200\n",
            "1875/1875 [==============================] - 4s 2ms/step - loss: 0.0551 - accuracy: 0.9828 - val_loss: 0.1080 - val_accuracy: 0.9768\n",
            "Epoch 67/200\n",
            "1875/1875 [==============================] - 4s 2ms/step - loss: 0.0530 - accuracy: 0.9839 - val_loss: 0.1162 - val_accuracy: 0.9755\n",
            "Epoch 68/200\n",
            "1875/1875 [==============================] - 4s 2ms/step - loss: 0.0527 - accuracy: 0.9839 - val_loss: 0.1148 - val_accuracy: 0.9767\n",
            "Epoch 69/200\n",
            "1875/1875 [==============================] - 4s 2ms/step - loss: 0.0528 - accuracy: 0.9837 - val_loss: 0.1134 - val_accuracy: 0.9745\n",
            "Epoch 70/200\n",
            "1875/1875 [==============================] - 4s 2ms/step - loss: 0.0557 - accuracy: 0.9828 - val_loss: 0.1066 - val_accuracy: 0.9770\n",
            "Epoch 71/200\n",
            "1875/1875 [==============================] - 4s 2ms/step - loss: 0.0547 - accuracy: 0.9836 - val_loss: 0.1080 - val_accuracy: 0.9767\n",
            "Epoch 72/200\n",
            "1875/1875 [==============================] - 4s 2ms/step - loss: 0.0549 - accuracy: 0.9835 - val_loss: 0.1088 - val_accuracy: 0.9765\n",
            "Epoch 73/200\n",
            "1875/1875 [==============================] - 4s 2ms/step - loss: 0.0546 - accuracy: 0.9837 - val_loss: 0.1084 - val_accuracy: 0.9763\n",
            "Epoch 74/200\n",
            "1875/1875 [==============================] - 4s 2ms/step - loss: 0.0543 - accuracy: 0.9838 - val_loss: 0.1051 - val_accuracy: 0.9766\n",
            "Epoch 75/200\n",
            "1875/1875 [==============================] - 4s 2ms/step - loss: 0.0502 - accuracy: 0.9840 - val_loss: 0.1145 - val_accuracy: 0.9771\n",
            "Epoch 76/200\n",
            "1875/1875 [==============================] - 4s 2ms/step - loss: 0.0541 - accuracy: 0.9833 - val_loss: 0.1164 - val_accuracy: 0.9742\n",
            "Epoch 77/200\n",
            "1875/1875 [==============================] - 4s 2ms/step - loss: 0.0533 - accuracy: 0.9839 - val_loss: 0.1152 - val_accuracy: 0.9754\n",
            "Epoch 78/200\n",
            "1875/1875 [==============================] - 4s 2ms/step - loss: 0.0525 - accuracy: 0.9843 - val_loss: 0.1206 - val_accuracy: 0.9750\n",
            "Epoch 79/200\n",
            "1875/1875 [==============================] - 4s 2ms/step - loss: 0.0552 - accuracy: 0.9834 - val_loss: 0.1152 - val_accuracy: 0.9759\n",
            "Epoch 80/200\n",
            "1875/1875 [==============================] - 4s 2ms/step - loss: 0.0512 - accuracy: 0.9850 - val_loss: 0.1192 - val_accuracy: 0.9754\n",
            "Epoch 81/200\n",
            "1875/1875 [==============================] - 4s 2ms/step - loss: 0.0553 - accuracy: 0.9835 - val_loss: 0.1053 - val_accuracy: 0.9758\n",
            "Epoch 82/200\n",
            "1875/1875 [==============================] - 4s 2ms/step - loss: 0.0522 - accuracy: 0.9837 - val_loss: 0.1116 - val_accuracy: 0.9753\n",
            "Epoch 83/200\n",
            "1875/1875 [==============================] - 4s 2ms/step - loss: 0.0509 - accuracy: 0.9843 - val_loss: 0.1194 - val_accuracy: 0.9746\n",
            "Epoch 84/200\n",
            "1875/1875 [==============================] - 4s 2ms/step - loss: 0.0525 - accuracy: 0.9841 - val_loss: 0.1143 - val_accuracy: 0.9756\n",
            "Epoch 85/200\n",
            "1875/1875 [==============================] - 4s 2ms/step - loss: 0.0506 - accuracy: 0.9851 - val_loss: 0.1202 - val_accuracy: 0.9747\n",
            "Epoch 86/200\n",
            "1875/1875 [==============================] - 4s 2ms/step - loss: 0.0503 - accuracy: 0.9845 - val_loss: 0.1296 - val_accuracy: 0.9738\n",
            "Epoch 87/200\n",
            "1875/1875 [==============================] - 4s 2ms/step - loss: 0.0509 - accuracy: 0.9845 - val_loss: 0.1253 - val_accuracy: 0.9762\n",
            "Epoch 88/200\n",
            "1875/1875 [==============================] - 4s 2ms/step - loss: 0.0512 - accuracy: 0.9841 - val_loss: 0.1152 - val_accuracy: 0.9760\n",
            "Epoch 89/200\n",
            "1875/1875 [==============================] - 4s 2ms/step - loss: 0.0499 - accuracy: 0.9851 - val_loss: 0.1170 - val_accuracy: 0.9764\n",
            "Epoch 90/200\n",
            "1875/1875 [==============================] - 4s 2ms/step - loss: 0.0494 - accuracy: 0.9845 - val_loss: 0.1188 - val_accuracy: 0.9764\n",
            "Epoch 91/200\n",
            "1875/1875 [==============================] - 4s 2ms/step - loss: 0.0491 - accuracy: 0.9854 - val_loss: 0.1169 - val_accuracy: 0.9754\n",
            "Epoch 92/200\n",
            "1875/1875 [==============================] - 4s 2ms/step - loss: 0.0488 - accuracy: 0.9850 - val_loss: 0.1266 - val_accuracy: 0.9751\n",
            "Epoch 93/200\n",
            "1875/1875 [==============================] - 4s 2ms/step - loss: 0.0501 - accuracy: 0.9847 - val_loss: 0.1198 - val_accuracy: 0.9753\n",
            "Epoch 94/200\n",
            "1875/1875 [==============================] - 4s 2ms/step - loss: 0.0499 - accuracy: 0.9854 - val_loss: 0.1257 - val_accuracy: 0.9759\n",
            "Epoch 95/200\n",
            "1875/1875 [==============================] - 4s 2ms/step - loss: 0.0508 - accuracy: 0.9846 - val_loss: 0.1268 - val_accuracy: 0.9747\n",
            "Epoch 96/200\n",
            "1875/1875 [==============================] - 4s 2ms/step - loss: 0.0506 - accuracy: 0.9850 - val_loss: 0.1267 - val_accuracy: 0.9750\n",
            "Epoch 97/200\n",
            "1875/1875 [==============================] - 4s 2ms/step - loss: 0.0525 - accuracy: 0.9836 - val_loss: 0.1151 - val_accuracy: 0.9759\n",
            "Epoch 98/200\n",
            "1875/1875 [==============================] - 4s 2ms/step - loss: 0.0484 - accuracy: 0.9855 - val_loss: 0.1201 - val_accuracy: 0.9778\n",
            "Epoch 99/200\n",
            "1875/1875 [==============================] - 4s 2ms/step - loss: 0.0487 - accuracy: 0.9854 - val_loss: 0.1201 - val_accuracy: 0.9764\n",
            "Epoch 100/200\n",
            "1875/1875 [==============================] - 4s 2ms/step - loss: 0.0495 - accuracy: 0.9846 - val_loss: 0.1163 - val_accuracy: 0.9755\n",
            "Epoch 101/200\n",
            "1875/1875 [==============================] - 4s 2ms/step - loss: 0.0489 - accuracy: 0.9854 - val_loss: 0.1185 - val_accuracy: 0.9748\n",
            "Epoch 102/200\n",
            "1875/1875 [==============================] - 4s 2ms/step - loss: 0.0482 - accuracy: 0.9850 - val_loss: 0.1235 - val_accuracy: 0.9765\n",
            "Epoch 103/200\n",
            "1875/1875 [==============================] - 4s 2ms/step - loss: 0.0497 - accuracy: 0.9847 - val_loss: 0.1185 - val_accuracy: 0.9755\n",
            "Epoch 104/200\n",
            "1875/1875 [==============================] - 4s 2ms/step - loss: 0.0474 - accuracy: 0.9859 - val_loss: 0.1231 - val_accuracy: 0.9757\n",
            "Epoch 105/200\n",
            "1875/1875 [==============================] - 4s 2ms/step - loss: 0.0467 - accuracy: 0.9862 - val_loss: 0.1192 - val_accuracy: 0.9758\n",
            "Epoch 106/200\n",
            "1875/1875 [==============================] - 4s 2ms/step - loss: 0.0490 - accuracy: 0.9859 - val_loss: 0.1338 - val_accuracy: 0.9734\n",
            "Epoch 107/200\n",
            "1875/1875 [==============================] - 4s 2ms/step - loss: 0.0500 - accuracy: 0.9853 - val_loss: 0.1128 - val_accuracy: 0.9762\n",
            "Epoch 108/200\n",
            "1875/1875 [==============================] - 4s 2ms/step - loss: 0.0470 - accuracy: 0.9853 - val_loss: 0.1283 - val_accuracy: 0.9758\n",
            "Epoch 109/200\n",
            "1875/1875 [==============================] - 4s 2ms/step - loss: 0.0500 - accuracy: 0.9846 - val_loss: 0.1313 - val_accuracy: 0.9739\n",
            "Epoch 110/200\n",
            "1875/1875 [==============================] - 4s 2ms/step - loss: 0.0427 - accuracy: 0.9869 - val_loss: 0.1321 - val_accuracy: 0.9755\n",
            "Epoch 111/200\n",
            "1875/1875 [==============================] - 4s 2ms/step - loss: 0.0443 - accuracy: 0.9867 - val_loss: 0.1285 - val_accuracy: 0.9748\n",
            "Epoch 112/200\n",
            "1875/1875 [==============================] - 4s 2ms/step - loss: 0.0485 - accuracy: 0.9857 - val_loss: 0.1334 - val_accuracy: 0.9749\n",
            "Epoch 113/200\n",
            "1875/1875 [==============================] - 4s 2ms/step - loss: 0.0489 - accuracy: 0.9849 - val_loss: 0.1273 - val_accuracy: 0.9751\n",
            "Epoch 114/200\n",
            "1875/1875 [==============================] - 3s 2ms/step - loss: 0.0451 - accuracy: 0.9865 - val_loss: 0.1419 - val_accuracy: 0.9747\n",
            "Epoch 115/200\n",
            "1875/1875 [==============================] - 4s 2ms/step - loss: 0.0472 - accuracy: 0.9861 - val_loss: 0.1278 - val_accuracy: 0.9761\n",
            "Epoch 116/200\n",
            "1875/1875 [==============================] - 4s 2ms/step - loss: 0.0485 - accuracy: 0.9853 - val_loss: 0.1327 - val_accuracy: 0.9742\n",
            "Epoch 117/200\n",
            "1875/1875 [==============================] - 4s 2ms/step - loss: 0.0474 - accuracy: 0.9858 - val_loss: 0.1256 - val_accuracy: 0.9753\n",
            "Epoch 118/200\n",
            "1875/1875 [==============================] - 5s 3ms/step - loss: 0.0478 - accuracy: 0.9857 - val_loss: 0.1351 - val_accuracy: 0.9762\n",
            "Epoch 119/200\n",
            "1875/1875 [==============================] - 4s 2ms/step - loss: 0.0494 - accuracy: 0.9854 - val_loss: 0.1274 - val_accuracy: 0.9737\n",
            "Epoch 120/200\n",
            "1875/1875 [==============================] - 4s 2ms/step - loss: 0.0473 - accuracy: 0.9857 - val_loss: 0.1311 - val_accuracy: 0.9755\n",
            "Epoch 121/200\n",
            "1875/1875 [==============================] - 4s 2ms/step - loss: 0.0465 - accuracy: 0.9859 - val_loss: 0.1301 - val_accuracy: 0.9757\n",
            "Epoch 122/200\n",
            "1875/1875 [==============================] - 4s 2ms/step - loss: 0.0462 - accuracy: 0.9863 - val_loss: 0.1261 - val_accuracy: 0.9755\n",
            "Epoch 123/200\n",
            "1875/1875 [==============================] - 4s 2ms/step - loss: 0.0444 - accuracy: 0.9865 - val_loss: 0.1245 - val_accuracy: 0.9774\n",
            "Epoch 124/200\n",
            "1875/1875 [==============================] - 4s 2ms/step - loss: 0.0439 - accuracy: 0.9864 - val_loss: 0.1373 - val_accuracy: 0.9741\n",
            "Epoch 125/200\n",
            "1875/1875 [==============================] - 4s 2ms/step - loss: 0.0479 - accuracy: 0.9865 - val_loss: 0.1226 - val_accuracy: 0.9747\n",
            "Epoch 126/200\n",
            "1875/1875 [==============================] - 4s 2ms/step - loss: 0.0466 - accuracy: 0.9864 - val_loss: 0.1273 - val_accuracy: 0.9763\n",
            "Epoch 127/200\n",
            "1875/1875 [==============================] - 4s 2ms/step - loss: 0.0446 - accuracy: 0.9865 - val_loss: 0.1248 - val_accuracy: 0.9759\n",
            "Epoch 128/200\n",
            "1875/1875 [==============================] - 4s 2ms/step - loss: 0.0464 - accuracy: 0.9862 - val_loss: 0.1292 - val_accuracy: 0.9746\n",
            "Epoch 129/200\n",
            "1875/1875 [==============================] - 4s 2ms/step - loss: 0.0445 - accuracy: 0.9867 - val_loss: 0.1326 - val_accuracy: 0.9749\n",
            "Epoch 130/200\n",
            "1875/1875 [==============================] - 4s 2ms/step - loss: 0.0441 - accuracy: 0.9866 - val_loss: 0.1369 - val_accuracy: 0.9755\n",
            "Epoch 131/200\n",
            "1875/1875 [==============================] - 4s 2ms/step - loss: 0.0471 - accuracy: 0.9863 - val_loss: 0.1252 - val_accuracy: 0.9752\n",
            "Epoch 132/200\n",
            "1875/1875 [==============================] - 4s 2ms/step - loss: 0.0441 - accuracy: 0.9867 - val_loss: 0.1482 - val_accuracy: 0.9737\n",
            "Epoch 133/200\n",
            "1875/1875 [==============================] - 4s 2ms/step - loss: 0.0452 - accuracy: 0.9870 - val_loss: 0.1316 - val_accuracy: 0.9743\n",
            "Epoch 134/200\n",
            "1875/1875 [==============================] - 4s 2ms/step - loss: 0.0460 - accuracy: 0.9862 - val_loss: 0.1364 - val_accuracy: 0.9753\n",
            "Epoch 135/200\n",
            "1875/1875 [==============================] - 4s 2ms/step - loss: 0.0476 - accuracy: 0.9858 - val_loss: 0.1219 - val_accuracy: 0.9760\n",
            "Epoch 136/200\n",
            "1875/1875 [==============================] - 4s 2ms/step - loss: 0.0469 - accuracy: 0.9863 - val_loss: 0.1312 - val_accuracy: 0.9758\n",
            "Epoch 137/200\n",
            "1875/1875 [==============================] - 4s 2ms/step - loss: 0.0423 - accuracy: 0.9870 - val_loss: 0.1378 - val_accuracy: 0.9757\n",
            "Epoch 138/200\n",
            "1875/1875 [==============================] - 4s 2ms/step - loss: 0.0446 - accuracy: 0.9866 - val_loss: 0.1346 - val_accuracy: 0.9763\n",
            "Epoch 139/200\n",
            "1875/1875 [==============================] - 4s 2ms/step - loss: 0.0460 - accuracy: 0.9859 - val_loss: 0.1310 - val_accuracy: 0.9747\n",
            "Epoch 140/200\n",
            "1875/1875 [==============================] - 4s 2ms/step - loss: 0.0433 - accuracy: 0.9867 - val_loss: 0.1313 - val_accuracy: 0.9764\n",
            "Epoch 141/200\n",
            "1875/1875 [==============================] - 4s 2ms/step - loss: 0.0398 - accuracy: 0.9874 - val_loss: 0.1373 - val_accuracy: 0.9761\n",
            "Epoch 142/200\n",
            "1875/1875 [==============================] - 4s 2ms/step - loss: 0.0461 - accuracy: 0.9860 - val_loss: 0.1343 - val_accuracy: 0.9743\n",
            "Epoch 143/200\n",
            "1875/1875 [==============================] - 4s 2ms/step - loss: 0.0425 - accuracy: 0.9869 - val_loss: 0.1372 - val_accuracy: 0.9764\n",
            "Epoch 144/200\n",
            "1875/1875 [==============================] - 4s 2ms/step - loss: 0.0424 - accuracy: 0.9871 - val_loss: 0.1306 - val_accuracy: 0.9756\n",
            "Epoch 145/200\n",
            "1875/1875 [==============================] - 4s 2ms/step - loss: 0.0435 - accuracy: 0.9872 - val_loss: 0.1463 - val_accuracy: 0.9744\n",
            "Epoch 146/200\n",
            "1875/1875 [==============================] - 4s 2ms/step - loss: 0.0435 - accuracy: 0.9870 - val_loss: 0.1371 - val_accuracy: 0.9756\n",
            "Epoch 147/200\n",
            "1875/1875 [==============================] - 4s 2ms/step - loss: 0.0426 - accuracy: 0.9876 - val_loss: 0.1458 - val_accuracy: 0.9756\n",
            "Epoch 148/200\n",
            "1875/1875 [==============================] - 4s 2ms/step - loss: 0.0436 - accuracy: 0.9870 - val_loss: 0.1393 - val_accuracy: 0.9768\n",
            "Epoch 149/200\n",
            "1875/1875 [==============================] - 4s 2ms/step - loss: 0.0458 - accuracy: 0.9865 - val_loss: 0.1391 - val_accuracy: 0.9750\n",
            "Epoch 150/200\n",
            "1875/1875 [==============================] - 4s 2ms/step - loss: 0.0427 - accuracy: 0.9868 - val_loss: 0.1343 - val_accuracy: 0.9765\n",
            "Epoch 151/200\n",
            "1875/1875 [==============================] - 4s 2ms/step - loss: 0.0449 - accuracy: 0.9871 - val_loss: 0.1332 - val_accuracy: 0.9756\n",
            "Epoch 152/200\n",
            "1875/1875 [==============================] - 4s 2ms/step - loss: 0.0433 - accuracy: 0.9870 - val_loss: 0.1266 - val_accuracy: 0.9763\n",
            "Epoch 153/200\n",
            "1875/1875 [==============================] - 4s 2ms/step - loss: 0.0413 - accuracy: 0.9877 - val_loss: 0.1391 - val_accuracy: 0.9752\n",
            "Epoch 154/200\n",
            "1875/1875 [==============================] - 4s 2ms/step - loss: 0.0434 - accuracy: 0.9867 - val_loss: 0.1412 - val_accuracy: 0.9763\n",
            "Epoch 155/200\n",
            "1875/1875 [==============================] - 4s 2ms/step - loss: 0.0420 - accuracy: 0.9875 - val_loss: 0.1425 - val_accuracy: 0.9766\n",
            "Epoch 156/200\n",
            "1875/1875 [==============================] - 4s 2ms/step - loss: 0.0431 - accuracy: 0.9869 - val_loss: 0.1474 - val_accuracy: 0.9742\n",
            "Epoch 157/200\n",
            "1875/1875 [==============================] - 6s 3ms/step - loss: 0.0415 - accuracy: 0.9878 - val_loss: 0.1446 - val_accuracy: 0.9750\n",
            "Epoch 158/200\n",
            "1875/1875 [==============================] - 4s 2ms/step - loss: 0.0433 - accuracy: 0.9869 - val_loss: 0.1494 - val_accuracy: 0.9740\n",
            "Epoch 159/200\n",
            "1875/1875 [==============================] - 4s 2ms/step - loss: 0.0428 - accuracy: 0.9873 - val_loss: 0.1449 - val_accuracy: 0.9757\n",
            "Epoch 160/200\n",
            "1875/1875 [==============================] - 4s 2ms/step - loss: 0.0424 - accuracy: 0.9872 - val_loss: 0.1439 - val_accuracy: 0.9738\n",
            "Epoch 161/200\n",
            "1875/1875 [==============================] - 4s 2ms/step - loss: 0.0454 - accuracy: 0.9869 - val_loss: 0.1302 - val_accuracy: 0.9755\n",
            "Epoch 162/200\n",
            "1875/1875 [==============================] - 4s 2ms/step - loss: 0.0438 - accuracy: 0.9877 - val_loss: 0.1494 - val_accuracy: 0.9735\n",
            "Epoch 163/200\n",
            "1875/1875 [==============================] - 4s 2ms/step - loss: 0.0429 - accuracy: 0.9873 - val_loss: 0.1442 - val_accuracy: 0.9754\n",
            "Epoch 164/200\n",
            "1875/1875 [==============================] - 4s 2ms/step - loss: 0.0425 - accuracy: 0.9880 - val_loss: 0.1370 - val_accuracy: 0.9756\n",
            "Epoch 165/200\n",
            "1875/1875 [==============================] - 4s 2ms/step - loss: 0.0438 - accuracy: 0.9871 - val_loss: 0.1482 - val_accuracy: 0.9746\n",
            "Epoch 166/200\n",
            "1875/1875 [==============================] - 4s 2ms/step - loss: 0.0417 - accuracy: 0.9876 - val_loss: 0.1308 - val_accuracy: 0.9749\n",
            "Epoch 167/200\n",
            "1875/1875 [==============================] - 4s 2ms/step - loss: 0.0403 - accuracy: 0.9882 - val_loss: 0.1463 - val_accuracy: 0.9755\n",
            "Epoch 168/200\n",
            "1875/1875 [==============================] - 4s 2ms/step - loss: 0.0420 - accuracy: 0.9879 - val_loss: 0.1359 - val_accuracy: 0.9752\n",
            "Epoch 169/200\n",
            "1875/1875 [==============================] - 4s 2ms/step - loss: 0.0417 - accuracy: 0.9878 - val_loss: 0.1331 - val_accuracy: 0.9738\n",
            "Epoch 170/200\n",
            "1875/1875 [==============================] - 4s 2ms/step - loss: 0.0430 - accuracy: 0.9871 - val_loss: 0.1441 - val_accuracy: 0.9770\n",
            "Epoch 171/200\n",
            "1875/1875 [==============================] - 4s 2ms/step - loss: 0.0424 - accuracy: 0.9879 - val_loss: 0.1435 - val_accuracy: 0.9755\n",
            "Epoch 172/200\n",
            "1875/1875 [==============================] - 5s 2ms/step - loss: 0.0432 - accuracy: 0.9873 - val_loss: 0.1370 - val_accuracy: 0.9749\n",
            "Epoch 173/200\n",
            "1875/1875 [==============================] - 4s 2ms/step - loss: 0.0420 - accuracy: 0.9878 - val_loss: 0.1449 - val_accuracy: 0.9748\n",
            "Epoch 174/200\n",
            "1875/1875 [==============================] - 4s 2ms/step - loss: 0.0456 - accuracy: 0.9867 - val_loss: 0.1352 - val_accuracy: 0.9751\n",
            "Epoch 175/200\n",
            "1875/1875 [==============================] - 4s 2ms/step - loss: 0.0404 - accuracy: 0.9877 - val_loss: 0.1460 - val_accuracy: 0.9764\n",
            "Epoch 176/200\n",
            "1875/1875 [==============================] - 4s 2ms/step - loss: 0.0455 - accuracy: 0.9863 - val_loss: 0.1509 - val_accuracy: 0.9743\n",
            "Epoch 177/200\n",
            "1875/1875 [==============================] - 4s 2ms/step - loss: 0.0425 - accuracy: 0.9872 - val_loss: 0.1276 - val_accuracy: 0.9764\n",
            "Epoch 178/200\n",
            "1875/1875 [==============================] - 4s 2ms/step - loss: 0.0426 - accuracy: 0.9871 - val_loss: 0.1425 - val_accuracy: 0.9750\n",
            "Epoch 179/200\n",
            "1875/1875 [==============================] - 4s 2ms/step - loss: 0.0395 - accuracy: 0.9876 - val_loss: 0.1499 - val_accuracy: 0.9752\n",
            "Epoch 180/200\n",
            "1875/1875 [==============================] - 5s 3ms/step - loss: 0.0423 - accuracy: 0.9873 - val_loss: 0.1495 - val_accuracy: 0.9754\n",
            "Epoch 181/200\n",
            "1875/1875 [==============================] - 4s 2ms/step - loss: 0.0426 - accuracy: 0.9876 - val_loss: 0.1403 - val_accuracy: 0.9731\n",
            "Epoch 182/200\n",
            "1875/1875 [==============================] - 4s 2ms/step - loss: 0.0422 - accuracy: 0.9875 - val_loss: 0.1376 - val_accuracy: 0.9752\n",
            "Epoch 183/200\n",
            "1875/1875 [==============================] - 4s 2ms/step - loss: 0.0422 - accuracy: 0.9875 - val_loss: 0.1469 - val_accuracy: 0.9742\n",
            "Epoch 184/200\n",
            "1875/1875 [==============================] - 4s 2ms/step - loss: 0.0403 - accuracy: 0.9884 - val_loss: 0.1514 - val_accuracy: 0.9736\n",
            "Epoch 185/200\n",
            "1875/1875 [==============================] - 4s 2ms/step - loss: 0.0425 - accuracy: 0.9876 - val_loss: 0.1405 - val_accuracy: 0.9756\n",
            "Epoch 186/200\n",
            "1875/1875 [==============================] - 5s 2ms/step - loss: 0.0408 - accuracy: 0.9880 - val_loss: 0.1506 - val_accuracy: 0.9744\n",
            "Epoch 187/200\n",
            "1875/1875 [==============================] - 4s 2ms/step - loss: 0.0411 - accuracy: 0.9876 - val_loss: 0.1457 - val_accuracy: 0.9747\n",
            "Epoch 188/200\n",
            "1875/1875 [==============================] - 4s 2ms/step - loss: 0.0405 - accuracy: 0.9880 - val_loss: 0.1503 - val_accuracy: 0.9752\n",
            "Epoch 189/200\n",
            "1875/1875 [==============================] - 5s 3ms/step - loss: 0.0406 - accuracy: 0.9881 - val_loss: 0.1435 - val_accuracy: 0.9755\n",
            "Epoch 190/200\n",
            "1875/1875 [==============================] - 4s 2ms/step - loss: 0.0399 - accuracy: 0.9880 - val_loss: 0.1473 - val_accuracy: 0.9752\n",
            "Epoch 191/200\n",
            "1875/1875 [==============================] - 4s 2ms/step - loss: 0.0417 - accuracy: 0.9882 - val_loss: 0.1400 - val_accuracy: 0.9750\n",
            "Epoch 192/200\n",
            "1875/1875 [==============================] - 4s 2ms/step - loss: 0.0425 - accuracy: 0.9879 - val_loss: 0.1412 - val_accuracy: 0.9749\n",
            "Epoch 193/200\n",
            "1875/1875 [==============================] - 4s 2ms/step - loss: 0.0423 - accuracy: 0.9877 - val_loss: 0.1487 - val_accuracy: 0.9744\n",
            "Epoch 194/200\n",
            "1875/1875 [==============================] - 4s 2ms/step - loss: 0.0403 - accuracy: 0.9885 - val_loss: 0.1476 - val_accuracy: 0.9754\n",
            "Epoch 195/200\n",
            "1875/1875 [==============================] - 4s 2ms/step - loss: 0.0411 - accuracy: 0.9879 - val_loss: 0.1428 - val_accuracy: 0.9748\n",
            "Epoch 196/200\n",
            "1875/1875 [==============================] - 4s 2ms/step - loss: 0.0422 - accuracy: 0.9874 - val_loss: 0.1507 - val_accuracy: 0.9740\n",
            "Epoch 197/200\n",
            "1875/1875 [==============================] - 5s 2ms/step - loss: 0.0392 - accuracy: 0.9883 - val_loss: 0.1489 - val_accuracy: 0.9745\n",
            "Epoch 198/200\n",
            "1875/1875 [==============================] - 4s 2ms/step - loss: 0.0406 - accuracy: 0.9882 - val_loss: 0.1524 - val_accuracy: 0.9749\n",
            "Epoch 199/200\n",
            "1875/1875 [==============================] - 4s 2ms/step - loss: 0.0437 - accuracy: 0.9875 - val_loss: 0.1465 - val_accuracy: 0.9748\n",
            "Epoch 200/200\n",
            "1875/1875 [==============================] - 4s 2ms/step - loss: 0.0413 - accuracy: 0.9877 - val_loss: 0.1319 - val_accuracy: 0.9755\n"
          ]
        }
      ],
      "source": [
        "# Configuração dos parâmetros da rede neural e treinamento (utilizando base de dados de validação)\n",
        "# Na variável historico temos os histórico das execuções (erro e accuracy)\n",
        "modelo.compile(optimizer = 'adam', loss = 'categorical_crossentropy',\n",
        "               metrics = ['accuracy'])\n",
        "historico = modelo.fit(X_treinamento, y_treinamento, epochs = 200,\n",
        "                       validation_data = (X_teste, y_teste))"
      ]
    },
    {
      "cell_type": "code",
      "execution_count": 17,
      "metadata": {
        "colab": {
          "base_uri": "https://localhost:8080/",
          "height": 447
        },
        "id": "RTYJP-VVPOh_",
        "outputId": "d9fd39e9-9925-457e-bea3-6c533a6bcfa3"
      },
      "outputs": [
        {
          "output_type": "execute_result",
          "data": {
            "text/plain": [
              "[<matplotlib.lines.Line2D at 0x7f6f5fef2c50>]"
            ]
          },
          "metadata": {},
          "execution_count": 17
        },
        {
          "output_type": "display_data",
          "data": {
            "text/plain": [
              "<Figure size 640x480 with 1 Axes>"
            ],
            "image/png": "[encoded data removed]"
          },
          "metadata": {}
        }
      ],
      "source": [
        "# Gráfico para visualizar os erros e accuracy\n",
        "historico.history.keys()\n",
        "#evolução do erro, azul\n",
        "plt.plot(historico.history['val_loss'])\n",
        "#performance da rede\n",
        "plt.plot(historico.history['val_accuracy'])"
      ]
    },
    {
      "cell_type": "code",
      "execution_count": 18,
      "metadata": {
        "colab": {
          "base_uri": "https://localhost:8080/"
        },
        "id": "NEjf3k9NPOh_",
        "outputId": "d37df7ea-bdea-4518-d986-021ce86fe24b"
      },
      "outputs": [
        {
          "output_type": "stream",
          "name": "stdout",
          "text": [
            "313/313 [==============================] - 0s 1ms/step\n"
          ]
        },
        {
          "output_type": "execute_result",
          "data": {
            "text/plain": [
              "array([[1.75889303e-17, 9.69729852e-10, 2.51783067e-10, ...,\n",
              "        9.99999940e-01, 1.39176483e-14, 1.17761967e-09],\n",
              "       [3.56555053e-26, 2.03583313e-11, 9.99999940e-01, ...,\n",
              "        5.81305505e-20, 4.46743719e-22, 4.55150666e-35],\n",
              "       [9.15553822e-38, 9.99999940e-01, 1.91652834e-17, ...,\n",
              "        1.65574533e-19, 3.32519336e-20, 1.14126814e-32],\n",
              "       ...,\n",
              "       [3.21165978e-19, 5.80711694e-12, 1.20800871e-13, ...,\n",
              "        2.51172217e-12, 8.27802454e-17, 6.84312768e-14],\n",
              "       [1.10992300e-21, 4.14652472e-17, 5.90057337e-18, ...,\n",
              "        1.45792997e-23, 6.64094975e-19, 4.65213470e-16],\n",
              "       [3.99188195e-21, 1.48966092e-29, 3.77662944e-20, ...,\n",
              "        1.19003522e-33, 2.15472919e-24, 2.95567530e-33]], dtype=float32)"
            ]
          },
          "metadata": {},
          "execution_count": 18
        }
      ],
      "source": [
        "# Obtenção das previsões\n",
        "previsoes = modelo.predict(X_teste)\n",
        "previsoes"
      ]
    },
    {
      "cell_type": "code",
      "execution_count": 19,
      "metadata": {
        "colab": {
          "base_uri": "https://localhost:8080/"
        },
        "id": "9b6FTsSWPOh_",
        "outputId": "ffeba156-c743-40ba-eed2-36532edc2810"
      },
      "outputs": [
        {
          "output_type": "execute_result",
          "data": {
            "text/plain": [
              "array([[ 963,    1,    2,    0,    1,    4,    5,    1,    1,    2],\n",
              "       [   0, 1123,    1,    0,    1,    2,    3,    0,    5,    0],\n",
              "       [   1,    2, 1011,    4,    3,    1,    1,    6,    2,    1],\n",
              "       [   0,    0,    5,  983,    0,   12,    0,    4,    3,    3],\n",
              "       [   1,    1,    3,    0,  959,    0,    7,    1,    2,    8],\n",
              "       [   2,    2,    0,    5,    0,  872,    3,    1,    4,    3],\n",
              "       [   3,    2,    1,    1,    4,    8,  938,    0,    1,    0],\n",
              "       [   1,    6,   12,    4,    0,    2,    0,  995,    1,    7],\n",
              "       [   6,    3,    4,    7,    5,    6,    1,    6,  932,    4],\n",
              "       [   2,    4,    0,   10,    5,    4,    0,    4,    1,  979]])"
            ]
          },
          "metadata": {},
          "execution_count": 19
        }
      ],
      "source": [
        "# valor máximo (com a probabilidade maior por serem 10 saídas) e geração da matriz de confusão\n",
        "y_teste_matriz = [np.argmax(t) for t in y_teste]\n",
        "y_previsoes_matriz = [np.argmax(t) for t in previsoes]\n",
        "confusao = confusion_matrix(y_teste_matriz, y_previsoes_matriz)\n",
        "confusao"
      ]
    },
    {
      "cell_type": "code",
      "execution_count": 20,
      "metadata": {
        "colab": {
          "base_uri": "https://localhost:8080/"
        },
        "id": "KlWOmZ9_POh_",
        "outputId": "cbe91de4-9fd1-4879-f4ba-6bf7b807586f"
      },
      "outputs": [
        {
          "output_type": "execute_result",
          "data": {
            "text/plain": [
              "array([0., 0., 0., 0., 1., 0., 0., 0., 0., 0.], dtype=float32)"
            ]
          },
          "metadata": {},
          "execution_count": 20
        }
      ],
      "source": [
        "# Previsão com um novo registro, convertendo o array para o formato de matriz\n",
        "#número 4\n",
        "y_treinamento[20]"
      ]
    },
    {
      "cell_type": "code",
      "execution_count": 21,
      "metadata": {
        "colab": {
          "base_uri": "https://localhost:8080/"
        },
        "id": "IiUcERZGPOh_",
        "outputId": "cf260565-94d9-4039-b8ce-0d84702722e8"
      },
      "outputs": [
        {
          "output_type": "stream",
          "name": "stdout",
          "text": [
            "1/1 [==============================] - 0s 15ms/step\n"
          ]
        },
        {
          "output_type": "execute_result",
          "data": {
            "text/plain": [
              "[4]"
            ]
          },
          "metadata": {},
          "execution_count": 21
        }
      ],
      "source": [
        "#passo a mesma posição para o modelo prever\n",
        "novo = X_treinamento[20]\n",
        "#de matriz para vetor\n",
        "novo = np.expand_dims(novo, axis = 0)\n",
        "#previsao\n",
        "pred = modelo.predict(novo)\n",
        "#maior valor\n",
        "pred = [np.argmax(pred) for t in pred]\n",
        "pred"
      ]
    }
  ],
  "metadata": {
    "jupytext": {
      "cell_metadata_filter": "-all",
      "main_language": "python",
      "notebook_metadata_filter": "-all"
    },
    "kernelspec": {
      "display_name": "Python 3",
      "language": "python",
      "name": "python3"
    },
    "language_info": {
      "codemirror_mode": {
        "name": "ipython",
        "version": 3
      },
      "file_extension": ".py",
      "mimetype": "text/x-python",
      "name": "python",
      "nbconvert_exporter": "python",
      "pygments_lexer": "ipython3",
      "version": "3.7.6"
    },
    "colab": {
      "provenance": [],
      "toc_visible": true,
      "include_colab_link": true
    }
  },
  "nbformat": 4,
  "nbformat_minor": 0
}